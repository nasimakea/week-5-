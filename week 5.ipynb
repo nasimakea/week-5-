{
 "cells": [
  {
   "cell_type": "markdown",
   "id": "6d9058d5-8dea-43ed-bb69-9166ac72fb97",
   "metadata": {},
   "source": [
    "###  Q1.what is an Exception in python ? write the diffrence between Exceptions and Syntax error"
   ]
  },
  {
   "cell_type": "markdown",
   "id": "348b797d-469d-4565-a93f-f87520fe7994",
   "metadata": {},
   "source": [
    "### ANS"
   ]
  },
  {
   "cell_type": "markdown",
   "id": "da7215fe-5493-437b-82a8-ff2852e5f620",
   "metadata": {},
   "source": [
    "The exception in python is an inbuilt function which helps us during the execution of the program to handle the error , so that code next to code containing error can be executed smoothly.\n",
    "there is diffrence between Exception and syntax error.\n",
    "\n",
    "let us understand with the help of example"
   ]
  },
  {
   "cell_type": "markdown",
   "id": "a7ae0bf9-a4ea-4349-9f98-d4874c4f6c52",
   "metadata": {},
   "source": [
    "Exception :- it occurs during the runtime, it can be caught and handled well\n",
    "but at the same time syntax error occure before execution of program.\n"
   ]
  },
  {
   "cell_type": "markdown",
   "id": "2ae9d69a-4cfe-4cd4-a84a-137efaa4af72",
   "metadata": {},
   "source": [
    "#exception\n",
    "try :\n",
    "    f=open('test.txt6','r')\n",
    "    f.write('i want to become data scientiest')\n",
    "    \n",
    "except Exception as e :\n",
    "    print('my error is' ,e)\n",
    "    \n",
    "else :\n",
    "    print('there was error')\n",
    "    \n",
    "    \n",
    "    "
   ]
  },
  {
   "cell_type": "code",
   "execution_count": 6,
   "id": "1f5c4bfa-3f5d-4da5-bc31-4ed54cb88e22",
   "metadata": {},
   "outputs": [
    {
     "ename": "SyntaxError",
     "evalue": "'(' was never closed (200780231.py, line 8)",
     "output_type": "error",
     "traceback": [
      "\u001b[0;36m  Cell \u001b[0;32mIn[6], line 8\u001b[0;36m\u001b[0m\n\u001b[0;31m    print('my error is' ,e\u001b[0m\n\u001b[0m         ^\u001b[0m\n\u001b[0;31mSyntaxError\u001b[0m\u001b[0;31m:\u001b[0m '(' was never closed\n"
     ]
    }
   ],
   "source": [
    "#syntax error\n",
    "\n",
    "try :\n",
    "    f=open('test.txt6','r')\n",
    "    f.write('i want to become data scientiest')\n",
    "    \n",
    "except Exception as e :\n",
    "    print('my error is' ,e\n",
    "    \n",
    "else :\n",
    "    print('there was error')\n"
   ]
  },
  {
   "cell_type": "markdown",
   "id": "bf102f96-21d5-4413-a8e8-ec7ca1140917",
   "metadata": {},
   "source": [
    "hence, from above examples , we can see the diffrence between both the error."
   ]
  },
  {
   "cell_type": "code",
   "execution_count": null,
   "id": "643009af-4c56-4ce4-8d08-c0cb605cd2eb",
   "metadata": {},
   "outputs": [],
   "source": []
  },
  {
   "cell_type": "code",
   "execution_count": null,
   "id": "c0f19b4b-c9b4-49a7-b11a-848d0ac041a9",
   "metadata": {},
   "outputs": [],
   "source": []
  },
  {
   "cell_type": "markdown",
   "id": "8b01c139-6410-4ade-bc69-fb2b08ac92d9",
   "metadata": {},
   "source": [
    "### Q2. What happens when an exception is not handled ? Explain with an example "
   ]
  },
  {
   "cell_type": "markdown",
   "id": "3134d82a-4b5a-4991-b1a6-3405086836ea",
   "metadata": {},
   "source": [
    "### ANS"
   ]
  },
  {
   "cell_type": "markdown",
   "id": "abfc4763-2764-4a39-9213-fc4939bb87e5",
   "metadata": {},
   "source": [
    "When there are numbers of code one after one, and if anyone of them contain an exception error but is not handled. then in scenario , then code next to that code will not be executed.\n",
    "let's understand with the help of example"
   ]
  },
  {
   "cell_type": "code",
   "execution_count": 8,
   "id": "1bb32706-aa45-4a94-8ada-737a01855bdd",
   "metadata": {},
   "outputs": [
    {
     "name": "stdout",
     "output_type": "stream",
     "text": [
      "i love my nation\n"
     ]
    },
    {
     "ename": "NameError",
     "evalue": "name 'a' is not defined",
     "output_type": "error",
     "traceback": [
      "\u001b[0;31m---------------------------------------------------------------------------\u001b[0m",
      "\u001b[0;31mNameError\u001b[0m                                 Traceback (most recent call last)",
      "Cell \u001b[0;32mIn[8], line 2\u001b[0m\n\u001b[1;32m      1\u001b[0m \u001b[38;5;28mprint\u001b[39m(\u001b[38;5;124m'\u001b[39m\u001b[38;5;124mi love my nation\u001b[39m\u001b[38;5;124m'\u001b[39m)\n\u001b[0;32m----> 2\u001b[0m \u001b[38;5;28mprint\u001b[39m(\u001b[43ma\u001b[49m\u001b[38;5;241m/\u001b[39m\u001b[38;5;241m0\u001b[39m)\n\u001b[1;32m      3\u001b[0m \u001b[38;5;28mprint\u001b[39m(\u001b[38;5;124m'\u001b[39m\u001b[38;5;124mrelax moto\u001b[39m\u001b[38;5;124m'\u001b[39m)\n",
      "\u001b[0;31mNameError\u001b[0m: name 'a' is not defined"
     ]
    }
   ],
   "source": [
    "print('i love my nation')\n",
    "print(a/0)\n",
    "print('relax moto')"
   ]
  },
  {
   "cell_type": "markdown",
   "id": "00bdc559-03c0-4bed-b2a0-e2644d37b540",
   "metadata": {},
   "source": [
    "we can clearly see in above example that last code is not executed because of the middle code"
   ]
  },
  {
   "cell_type": "code",
   "execution_count": null,
   "id": "f11ad3a0-d960-4332-88b1-12d8992e3d8c",
   "metadata": {},
   "outputs": [],
   "source": []
  },
  {
   "cell_type": "code",
   "execution_count": null,
   "id": "1277c3ff-b2e5-47e0-b4a1-344f455941dd",
   "metadata": {},
   "outputs": [],
   "source": []
  },
  {
   "cell_type": "markdown",
   "id": "981d0929-e8e6-45a7-ab5e-86e5b1a82a28",
   "metadata": {
    "tags": []
   },
   "source": [
    "### Q3. Which python statements are used to catch and handle exception ? Explain with an example."
   ]
  },
  {
   "cell_type": "code",
   "execution_count": null,
   "id": "05e792f1-8309-4add-8295-0c3f1fa3098d",
   "metadata": {},
   "outputs": [],
   "source": []
  },
  {
   "cell_type": "markdown",
   "id": "668500ca-2a0d-453f-a1c7-15205d1ae5b4",
   "metadata": {},
   "source": [
    "### ANS"
   ]
  },
  {
   "cell_type": "markdown",
   "id": "801a0469-dbff-450c-94a4-b95b4e330991",
   "metadata": {},
   "source": [
    "In python there are basically two statements that are __try__  and __except__"
   ]
  },
  {
   "cell_type": "markdown",
   "id": "237b7469-ad03-45dd-9a27-6c7887141d3a",
   "metadata": {},
   "source": [
    "we put the code in try block which might contain error and __try__ to handle with the help of __except__ block"
   ]
  },
  {
   "cell_type": "code",
   "execution_count": 9,
   "id": "a6f05ed4-5c97-4a46-a749-1529f6afd052",
   "metadata": {},
   "outputs": [],
   "source": [
    "class animal :\n",
    "    \n",
    "    def speak(self):\n",
    "        return 'animal can speak'"
   ]
  },
  {
   "cell_type": "code",
   "execution_count": 10,
   "id": "af08603f-a0dc-436a-ad49-5a399cb9f7c2",
   "metadata": {},
   "outputs": [],
   "source": [
    "dog=animal\n",
    "    "
   ]
  },
  {
   "cell_type": "code",
   "execution_count": 15,
   "id": "eeba108f-b9b5-43bd-b526-e796037b02ef",
   "metadata": {},
   "outputs": [
    {
     "name": "stdout",
     "output_type": "stream",
     "text": [
      "my error is type object 'animal' has no attribute 'eat'\n"
     ]
    }
   ],
   "source": [
    "try :\n",
    "    dog.eat()\n",
    "except Exception as e :\n",
    "    print('my error is',e)"
   ]
  },
  {
   "cell_type": "markdown",
   "id": "1fc9d41c-936a-4ae4-89d9-b10b1fa396ec",
   "metadata": {},
   "source": [
    "so here we put the __dog.eat()__ in the __try__ block , and to hand the error , we used __except__"
   ]
  },
  {
   "cell_type": "code",
   "execution_count": null,
   "id": "7c166b39-45cc-4e45-a0cf-16b529334929",
   "metadata": {},
   "outputs": [],
   "source": []
  },
  {
   "cell_type": "code",
   "execution_count": null,
   "id": "3f5cb633-9177-4585-a482-9dcbce0f4fdf",
   "metadata": {},
   "outputs": [],
   "source": []
  },
  {
   "cell_type": "markdown",
   "id": "dba98ae9-0b62-4211-884d-c2a43c4eb832",
   "metadata": {},
   "source": [
    "### Q4.Explain with an example:\n",
    "\n",
    "  ### a. __try__ and __else__\n",
    "  ### b. __finally__\n",
    "  ### c. __raise__"
   ]
  },
  {
   "cell_type": "markdown",
   "id": "b16757c2-8620-453f-87a7-c3dcd2dc0d29",
   "metadata": {},
   "source": [
    "### ANS\n",
    "### First we will see __try__ and __else__"
   ]
  },
  {
   "cell_type": "code",
   "execution_count": 17,
   "id": "af29386d-b537-403d-be32-6435a2c317fc",
   "metadata": {},
   "outputs": [
    {
     "name": "stdout",
     "output_type": "stream",
     "text": [
      "there was no error , that's why this line of code is executed\n"
     ]
    }
   ],
   "source": [
    "try :\n",
    "    f=open('test8.txt','w')\n",
    "    f.write('i am just learning')\n",
    "    f.close()\n",
    "except Exception as e :\n",
    "    print(e)\n",
    "else :\n",
    "    print(\"there was no error , that's why this line of code is executed\")"
   ]
  },
  {
   "cell_type": "markdown",
   "id": "6a3ed6b4-a544-4be3-8c6a-adfbb1bb4f8d",
   "metadata": {},
   "source": [
    "### Now let's see the example of finally"
   ]
  },
  {
   "cell_type": "code",
   "execution_count": 20,
   "id": "5b3988c6-698e-4bb4-b440-76823bab6750",
   "metadata": {},
   "outputs": [
    {
     "name": "stdout",
     "output_type": "stream",
     "text": [
      "My error is [Errno 2] No such file or directory: 'test10.txt'\n",
      "no matter wheter there is error or not, but this will be executed\n"
     ]
    }
   ],
   "source": [
    "try :\n",
    "    f=open('test10.txt','r')\n",
    "except FileNotFoundError as e :\n",
    "    print('My error is',e)\n",
    "    \n",
    "finally:\n",
    "    print('no matter wheter there is error or not, but this will be executed')\n",
    "    "
   ]
  },
  {
   "cell_type": "code",
   "execution_count": 21,
   "id": "251c9225-6e38-46df-86a7-92f832f0be3b",
   "metadata": {},
   "outputs": [
    {
     "name": "stdout",
     "output_type": "stream",
     "text": [
      "An error occurred: Division by zero is not allowed\n"
     ]
    }
   ],
   "source": [
    "def divide(x, y):\n",
    "    if y == 0:\n",
    "        raise ZeroDivisionError(\"Division by zero is not allowed\")\n",
    "    return x / y\n",
    "\n",
    "try:\n",
    "    result = divide(10, 0)\n",
    "except ZeroDivisionError as e:\n",
    "    print(f\"An error occurred: {e}\")"
   ]
  },
  {
   "cell_type": "code",
   "execution_count": null,
   "id": "c25e6b62-e073-45fe-af8b-1548fa157c1c",
   "metadata": {},
   "outputs": [],
   "source": []
  },
  {
   "cell_type": "markdown",
   "id": "f3c29c5a-ab92-40f6-b07a-0bb545effa9e",
   "metadata": {},
   "source": [
    "### Q5. What are custom exceptions in python ? why do we need custom exceptions ? Explain with an example "
   ]
  },
  {
   "cell_type": "code",
   "execution_count": null,
   "id": "6ed0e75b-867d-484b-9220-437c73cfcbdc",
   "metadata": {},
   "outputs": [],
   "source": []
  },
  {
   "cell_type": "markdown",
   "id": "41925c44-e63d-447a-947d-8c3bafdd9180",
   "metadata": {},
   "source": [
    "### ANS"
   ]
  },
  {
   "cell_type": "markdown",
   "id": "6bdae9be-1463-4f2b-987a-7aba3ee35cf0",
   "metadata": {},
   "source": [
    "python has alot of inbuilt exception to handle error, but there are some scenarions where fail to handle error with inbuilt exception , in that scenario , we have user defined exception to handle the error"
   ]
  },
  {
   "cell_type": "markdown",
   "id": "2895aa2d-3cca-4f64-85bb-1bc861126860",
   "metadata": {},
   "source": [
    "for example"
   ]
  },
  {
   "cell_type": "markdown",
   "id": "7d3a36c8-f8b9-4e4a-8287-61a814d0ba43",
   "metadata": {},
   "source": [
    "\n",
    "        Suppose we are building a Python program for a delivery service. We want to create a custom exception to handle a situation where the delivery address provided is incomplete. We'll call this exception IncompleteAddressError\n",
    "    "
   ]
  },
  {
   "cell_type": "code",
   "execution_count": 14,
   "id": "eb442ded-88ee-4b04-9b78-5201ef0ee890",
   "metadata": {},
   "outputs": [],
   "source": [
    "class IncompleteAddressError(Exception):\n",
    "    def __init__(self, message=\"Address is incomplete\"):\n",
    "        super().__init__(message)\n",
    "\n",
    "def deliver_package(address):\n",
    "    if not address:\n",
    "        raise IncompleteAddressError(\"Delivery address is missing.\")\n",
    "    # The rest of the delivery logic goes here...\n",
    "\n",
    "try:\n",
    "    delivery_address = \"123 Main St, City\"\n",
    "    deliver_package(delivery_address)\n",
    "except IncompleteAddressError as e:\n",
    "    print(f\"We encountered an error: {e}\")\n",
    "    # Handle the incomplete address error specifically for our use case.\n",
    "except Exception as e:\n",
    "    print(f\"We encountered a general error: {e}\")\n",
    "    # Handle other exceptions generically.\n"
   ]
  },
  {
   "cell_type": "code",
   "execution_count": null,
   "id": "41b18bf8-6f2c-42eb-9a2f-114db06a3ce6",
   "metadata": {},
   "outputs": [],
   "source": []
  },
  {
   "cell_type": "code",
   "execution_count": null,
   "id": "d250aadb-7b81-4a5c-bd3f-d059e07792fd",
   "metadata": {},
   "outputs": [],
   "source": []
  },
  {
   "cell_type": "markdown",
   "id": "ccdb878d-9245-4ab6-9a9a-b863e2021a2e",
   "metadata": {},
   "source": [
    "### Q6. Create custom exception class. Use this class to handle an exception"
   ]
  },
  {
   "cell_type": "markdown",
   "id": "c49ba09e-d3dd-48cf-8730-f669bbfce5c7",
   "metadata": {},
   "source": [
    "### ANS"
   ]
  }
 ],
 "metadata": {
  "kernelspec": {
   "display_name": "Python 3 (ipykernel)",
   "language": "python",
   "name": "python3"
  },
  "language_info": {
   "codemirror_mode": {
    "name": "ipython",
    "version": 3
   },
   "file_extension": ".py",
   "mimetype": "text/x-python",
   "name": "python",
   "nbconvert_exporter": "python",
   "pygments_lexer": "ipython3",
   "version": "3.10.8"
  }
 },
 "nbformat": 4,
 "nbformat_minor": 5
}
