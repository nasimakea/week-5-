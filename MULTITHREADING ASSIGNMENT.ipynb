{
 "cells": [
  {
   "cell_type": "markdown",
   "id": "230294d3-0f31-40ab-a872-a2ce0bdec535",
   "metadata": {},
   "source": [
    "### Q.1 What is multithreading in python? why is it used? Name the module used to handle threads in python"
   ]
  },
  {
   "cell_type": "markdown",
   "id": "f755ee6d-4f63-4014-a247-64a5c4230298",
   "metadata": {},
   "source": [
    "# ANS\n",
    "\n",
    "Multithreading means the execution of multiple thread concurrently or parralely in the same python core or in the same processes, where multiple code are executed in multiple threads concurrenltly, even they have same memory working simuntaneously but all the threads are independent of each other.so , in all we can say that it helps to increase the program efficiency even though having same memory space\n"
   ]
  },
  {
   "cell_type": "markdown",
   "id": "6aeae3e8-7aca-4fb7-a293-e2def0b39e58",
   "metadata": {},
   "source": [
    "to handle the threads in the python , we use threading module"
   ]
  },
  {
   "cell_type": "code",
   "execution_count": 1,
   "id": "09aec582-7752-40ec-913d-40e2f5270ac1",
   "metadata": {},
   "outputs": [],
   "source": [
    "import threading"
   ]
  },
  {
   "cell_type": "code",
   "execution_count": 18,
   "id": "2c2d15ac-1bc4-4610-80e4-620e74c4c91b",
   "metadata": {},
   "outputs": [],
   "source": [
    "def calculate_sum(a,b,c):\n",
    "    for i in range(a+b+c):\n",
    "        print(i)\n",
    "\n",
    "thread=[threading.Thread(target=calculate_sum,args=(5,6,7,)) for i in range(4)]\n",
    "\n"
   ]
  },
  {
   "cell_type": "code",
   "execution_count": 19,
   "id": "25108a9e-f811-4c19-83ab-34a690e125de",
   "metadata": {},
   "outputs": [
    {
     "name": "stdout",
     "output_type": "stream",
     "text": [
      "0\n",
      "1\n",
      "2\n",
      "3\n",
      "4\n",
      "5\n",
      "6\n",
      "7\n",
      "8\n",
      "9\n",
      "10\n",
      "11\n",
      "12\n",
      "13\n",
      "14\n",
      "15\n",
      "16\n",
      "17\n",
      "0\n",
      "1\n",
      "2\n",
      "3\n",
      "4\n",
      "5\n",
      "6\n",
      "7\n",
      "8\n",
      "9\n",
      "10\n",
      "11\n",
      "12\n",
      "13\n",
      "14\n",
      "15\n",
      "16\n",
      "17\n",
      "0\n",
      "1\n",
      "2\n",
      "3\n",
      "4\n",
      "5\n",
      "6\n",
      "7\n",
      "8\n",
      "9\n",
      "10\n",
      "11\n",
      "12\n",
      "13\n",
      "14\n",
      "15\n",
      "16\n",
      "17\n",
      "0\n",
      "1\n",
      "2\n",
      "3\n",
      "4\n",
      "5\n",
      "6\n",
      "7\n",
      "8\n",
      "9\n",
      "10\n",
      "11\n",
      "12\n",
      "13\n",
      "14\n",
      "15\n",
      "16\n",
      "17\n"
     ]
    }
   ],
   "source": [
    "for t in thread:\n",
    "    t.start()\n",
    "    \n",
    "    t.join()\n",
    "    time.sleep(1)\n",
    "    "
   ]
  },
  {
   "cell_type": "code",
   "execution_count": 13,
   "id": "e24b0a14-bf7e-4981-8f85-8439ba173479",
   "metadata": {},
   "outputs": [],
   "source": []
  },
  {
   "cell_type": "markdown",
   "id": "4edd9737-2d7d-45dd-a9c5-7a239e8c1161",
   "metadata": {},
   "source": [
    "### Q.2 Why threading module used? Write the use of the following functions\n",
    "# A. activeCount()\n",
    "# B. currentThread()\n",
    "# C. enumerate()"
   ]
  },
  {
   "cell_type": "markdown",
   "id": "1250ff60-fd8b-4ecb-aff5-6e9976c7fb43",
   "metadata": {},
   "source": [
    "# ANS"
   ]
  },
  {
   "cell_type": "markdown",
   "id": "c65b5a27-8a5e-4660-8908-75edd936e4f2",
   "metadata": {},
   "source": [
    "The threading module in python is used because it helps us to work with the multiple threads with the same memory space and same processes.\n",
    "Now let us talk about the uses of these given function . and will also understand even better with the help of certain examples.\n",
    "\n",
    "\n",
    ",activeCount, : it helps us to determing the number of threads are working concurrently in the threading at the moment or the threads that are alive\n",
    "\n",
    ",currentThread, : it helps us to accesses information about the exisiting thread\n",
    "\n",
    ",enumerate, : it actually returns the list of all the threads working or alive councuurently at the moment"
   ]
  },
  {
   "cell_type": "code",
   "execution_count": 29,
   "id": "55ebce4e-9897-4f9d-9f74-ac2cd54b4982",
   "metadata": {},
   "outputs": [],
   "source": [
    "import threading\n",
    "\n",
    "\n",
    "def ITERATION_FUN(a):\n",
    "    for i in a :\n",
    "        print(i)\n",
    "        \n",
    "        \n",
    "thread1=[threading.Thread(target=ITERATION_FUN, args=('nasim',)) for i in range(5)]"
   ]
  },
  {
   "cell_type": "code",
   "execution_count": 30,
   "id": "a96bd85a-856d-4364-b9cd-917f9415751c",
   "metadata": {},
   "outputs": [
    {
     "name": "stdout",
     "output_type": "stream",
     "text": [
      "n\n",
      "a\n",
      "s\n",
      "i\n",
      "m\n",
      "number of active thread 8\n",
      "n\n",
      "a\n",
      "s\n",
      "i\n",
      "m\n",
      "number of active thread 8\n",
      "n\n",
      "a\n",
      "s\n",
      "i\n",
      "m\n",
      "number of active thread 8\n",
      "n\n",
      "a\n",
      "s\n",
      "i\n",
      "m\n",
      "number of active thread 8\n",
      "n\n",
      "a\n",
      "s\n",
      "i\n",
      "m\n",
      "number of active thread 8\n"
     ]
    },
    {
     "name": "stderr",
     "output_type": "stream",
     "text": [
      "/tmp/ipykernel_118/1147801453.py:4: DeprecationWarning: activeCount() is deprecated, use active_count() instead\n",
      "  print(\"number of active thread\",threading.activeCount())\n"
     ]
    }
   ],
   "source": [
    "for t in thread1:\n",
    "    t.start()\n",
    "    t.join()\n",
    "    print(\"number of active thread\",threading.activeCount())"
   ]
  },
  {
   "cell_type": "markdown",
   "id": "8880c985-33c3-4e98-9fbf-5281882bf45f",
   "metadata": {},
   "source": [
    "again let's see the use of currentThread"
   ]
  },
  {
   "cell_type": "code",
   "execution_count": 31,
   "id": "f0d9bc00-b962-4dbe-8c68-df2d095aa48c",
   "metadata": {},
   "outputs": [
    {
     "name": "stdout",
     "output_type": "stream",
     "text": [
      "Thread name: CustomThread\n"
     ]
    },
    {
     "name": "stderr",
     "output_type": "stream",
     "text": [
      "/tmp/ipykernel_118/1690055025.py:4: DeprecationWarning: currentThread() is deprecated, use current_thread() instead\n",
      "  current_thread = threading.currentThread()\n"
     ]
    }
   ],
   "source": [
    "import threading\n",
    "\n",
    "def my_thread_function():\n",
    "    current_thread = threading.currentThread()\n",
    "    print(f\"Thread name: {current_thread.name}\")\n",
    "\n",
    "t1 = threading.Thread(target=my_thread_function, name=\"CustomThread\")\n",
    "\n",
    "t1.start()\n"
   ]
  },
  {
   "cell_type": "code",
   "execution_count": 32,
   "id": "78e91f2b-d175-4932-b0b6-ae9ed3cde97b",
   "metadata": {},
   "outputs": [
    {
     "name": "stdout",
     "output_type": "stream",
     "text": [
      "Thread name: MainThread\n",
      "Thread name: IOPub\n",
      "Thread name: Heartbeat\n",
      "Thread name: Thread-3 (_watch_pipe_fd)\n",
      "Thread name: Thread-4 (_watch_pipe_fd)\n",
      "Thread name: Control\n",
      "Thread name: IPythonHistorySavingThread\n",
      "Thread name: Thread-2\n"
     ]
    }
   ],
   "source": [
    "import threading\n",
    "\n",
    "def my_thread_function():\n",
    "    pass\n",
    "\n",
    "t1 = threading.Thread(target=my_thread_function)\n",
    "t2 = threading.Thread(target=my_thread_function)\n",
    "\n",
    "t1.start()\n",
    "t2.start()\n",
    "\n",
    "for thread in threading.enumerate():\n",
    "    print(f\"Thread name: {thread.name}\")\n",
    "\n"
   ]
  },
  {
   "cell_type": "markdown",
   "id": "c25e9ace-f062-4cf2-8b3e-edee31be4fd7",
   "metadata": {},
   "source": [
    "# 3. Explain the following functions\n",
    "# 1. run()\n",
    "# 2. start()\n",
    "# 3. join()\n",
    "# 4.  isAlive()"
   ]
  },
  {
   "cell_type": "markdown",
   "id": "f2e4aec4-4545-401a-887c-7632b2a7e51f",
   "metadata": {},
   "source": [
    "# ANS"
   ]
  },
  {
   "cell_type": "markdown",
   "id": "20a88a4c-fa3b-4d3d-bbe2-a1ebf71a531d",
   "metadata": {},
   "source": [
    "Certainly! Here's an explanation of the mentioned functions in the first-person plural:\n",
    "\n",
    "1. `run()`: This function is used to define the behavior of a thread when it is executed. It should be overridden in a custom thread class to specify what the thread should do. When the thread is started using the `start()` method, it internally calls the `run()` method. By customizing the `run()` method, we can specify the actions that the thread should perform when it runs.\n",
    "\n",
    "2. `start()`: We use the `start()` method to initiate the execution of a thread. When we call this method on a Thread object, it internally invokes the `run()` method, which defines the thread's behavior. Starting a thread with `start()` is essential because it ensures that the thread runs concurrently with other threads and makes use of available CPU resources. Calling `run()` directly does not create a new thread but rather runs the function in the current thread.\n",
    "\n",
    "3. `join()`: The `join()` method is used to wait for a thread to complete its execution before proceeding with the rest of the program. When we call `join()` on a Thread object, the program will block and wait until that thread finishes its task. This is useful when you need the results or side effects of a thread's execution before continuing with the main program.\n",
    "\n",
    "4. `isAlive()`: The `isAlive()` function is employed to check whether a thread is currently running or has completed its execution. It returns a Boolean value, `True` if the thread is still active (running) and `False` if it has completed its task. This function is useful for determining the status of a thread, particularly when you want to perform actions based on the thread's state, like waiting for it to finish using `join()` when it's still active."
   ]
  },
  {
   "cell_type": "code",
   "execution_count": null,
   "id": "3155a987-c8e6-4a33-980c-31bfae9d5f44",
   "metadata": {},
   "outputs": [],
   "source": []
  },
  {
   "cell_type": "markdown",
   "id": "c78fe57a-79a0-4344-bf7f-c6797d2250d9",
   "metadata": {},
   "source": [
    "# Q.4 Write a python program to create two threads. Thread one must print the list of squares and thread\n",
    "  # two must print the list of cubes"
   ]
  },
  {
   "cell_type": "code",
   "execution_count": 42,
   "id": "b4b4e6e7-7fdf-4fba-97a4-10bae16b6b08",
   "metadata": {},
   "outputs": [],
   "source": [
    "\n",
    "def square(l):\n",
    "    for i in l:\n",
    "        print(i*i)\n",
    "\n",
    "        \n",
    "def cube(l):\n",
    "    for i in l :\n",
    "        print(i*i*i)"
   ]
  },
  {
   "cell_type": "code",
   "execution_count": 43,
   "id": "f2cadbcf-bdf3-4fdc-a78f-2115493512ec",
   "metadata": {},
   "outputs": [],
   "source": [
    "import threading\n",
    "l=[1,2,3,4,5,6]"
   ]
  },
  {
   "cell_type": "code",
   "execution_count": 44,
   "id": "41f48b34-4d1f-488b-bc84-9f2b441ae0eb",
   "metadata": {},
   "outputs": [],
   "source": [
    "Thread1=threading.Thread(target=square,args=(l,))"
   ]
  },
  {
   "cell_type": "code",
   "execution_count": 45,
   "id": "fc35294f-6f45-4a02-a4ad-cbde08c71358",
   "metadata": {},
   "outputs": [],
   "source": [
    "Thread2=threading.Thread(target=cube,args=(l,))"
   ]
  },
  {
   "cell_type": "code",
   "execution_count": 46,
   "id": "77eb0980-f61f-4082-a8c9-b9c22001bf2d",
   "metadata": {},
   "outputs": [
    {
     "name": "stdout",
     "output_type": "stream",
     "text": [
      "1\n",
      "4\n",
      "9\n",
      "16\n",
      "25\n",
      "36\n",
      "1\n",
      "8\n",
      "27\n",
      "64\n",
      "125\n",
      "216\n"
     ]
    }
   ],
   "source": [
    "Thread1.start()\n",
    "Thread2.start()\n",
    "Thread1.join()\n",
    "Thread2.join()"
   ]
  },
  {
   "cell_type": "code",
   "execution_count": null,
   "id": "6b7c955a-8916-4c7f-b7f7-17e90e3f39ec",
   "metadata": {},
   "outputs": [],
   "source": []
  },
  {
   "cell_type": "markdown",
   "id": "139268e6-07c9-456a-b293-22bdcd4cfd4a",
   "metadata": {},
   "source": [
    "# Q.5 State advantages and disadvantages of multithreading"
   ]
  },
  {
   "cell_type": "markdown",
   "id": "4317572d-98a3-495f-853f-a9f8619ddaac",
   "metadata": {},
   "source": [
    "# ANS\n",
    "\n",
    "Certainly, here are the advantages and disadvantages of multithreading in short, using the first-person plural:\n",
    "\n",
    "Advantages:\n",
    "1. **Improved Performance**: Multithreading allows us to execute multiple tasks concurrently, which can lead to better CPU utilization and faster execution of programs.\n",
    "\n",
    "2. **Responsiveness**: With threads, we can keep certain parts of our program responsive, such as user interfaces, while performing background tasks.\n",
    "\n",
    "3. **Resource Sharing**: Threads can share data and resources more efficiently compared to separate processes, as they run within the same memory space.\n",
    "\n",
    "4. **Simplicity**: In some cases, multithreading can simplify the design of complex applications by breaking them into smaller, manageable threads.\n",
    "\n",
    "Disadvantages:\n",
    "1. **Complexity**: Multithreading introduces complexity, such as race conditions and deadlocks, which can be challenging to debug and maintain.\n",
    "\n",
    "2. **Thread Safety**: Ensuring data integrity in a multithreaded environment requires careful synchronization, leading to additional code complexity.\n",
    "\n",
    "3. **Limited CPU Utilization**: Multithreading might not fully utilize multiple CPU cores if a program's tasks are not truly parallelizable.\n",
    "\n",
    "4. **Platform Dependency**: Thread behavior can vary between different operating systems, making it less portable.\n",
    "\n"
   ]
  },
  {
   "cell_type": "code",
   "execution_count": null,
   "id": "5063c0be-f899-4570-a968-21a09f283959",
   "metadata": {},
   "outputs": [],
   "source": []
  },
  {
   "cell_type": "markdown",
   "id": "9d99ea97-1b19-4ff6-a1ba-4f2691574dbc",
   "metadata": {},
   "source": [
    "#  Q.6. Explain deadlocks and race conditions."
   ]
  },
  {
   "cell_type": "markdown",
   "id": "db482c18-b2dc-474c-9c79-1eea51ccfbc1",
   "metadata": {},
   "source": [
    "# ANS\n",
    "\n",
    "Deadlocks occur when multiple threads in a multithreaded program are unable to proceed because they are all waiting for each other to release resources. It's like a standstill where no thread can make progress, and the program becomes unresponsive.\n",
    "\n",
    "Race conditions, on the other hand, happen when multiple threads access shared data concurrently, and the final outcome depends on the order of execution. This unpredictability can lead to bugs and data corruption as threads \"race\" to modify the shared resource without proper synchronization."
   ]
  },
  {
   "cell_type": "code",
   "execution_count": null,
   "id": "a6633e8d-b631-48b6-9301-58aba533597b",
   "metadata": {},
   "outputs": [],
   "source": []
  }
 ],
 "metadata": {
  "kernelspec": {
   "display_name": "Python 3 (ipykernel)",
   "language": "python",
   "name": "python3"
  },
  "language_info": {
   "codemirror_mode": {
    "name": "ipython",
    "version": 3
   },
   "file_extension": ".py",
   "mimetype": "text/x-python",
   "name": "python",
   "nbconvert_exporter": "python",
   "pygments_lexer": "ipython3",
   "version": "3.10.8"
  }
 },
 "nbformat": 4,
 "nbformat_minor": 5
}
