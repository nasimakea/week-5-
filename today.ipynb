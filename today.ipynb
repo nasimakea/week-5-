{
 "cells": [
  {
   "cell_type": "markdown",
   "id": "d9a37d7d-8d7e-4ad6-a103-2dce0f78be35",
   "metadata": {},
   "source": [
    "#### Q1. Explain why we have to use the Exception class while creating a Custom Exception.\n",
    "\n",
    "Note: Here Exception class refers to the base class for all the exceptions."
   ]
  },
  {
   "cell_type": "markdown",
   "id": "089a3bc4-1ece-406f-82bf-3ad86d8536b0",
   "metadata": {},
   "source": [
    "# ANS"
   ]
  },
  {
   "cell_type": "markdown",
   "id": "dba30908-9435-435e-9255-6e2c03b33984",
   "metadata": {},
   "source": [
    "We use the Exception class as the base class for custom exceptions in Python because it ensures that our custom exceptions inherit the essential behavior and attributes of standard exceptions. By inheriting from Exception, we can take advantage of Python's exception handling mechanisms, making it easier to catch and handle our custom exceptions alongside built-in exceptions. This consistency helps maintain a unified and predictable exception hierarchy, simplifying error management and making our code more robust."
   ]
  },
  {
   "cell_type": "code",
   "execution_count": 5,
   "id": "5adf5056-e8b4-4543-b8c2-d4289f46b1be",
   "metadata": {},
   "outputs": [],
   "source": [
    "import logging as lg\n"
   ]
  },
  {
   "cell_type": "code",
   "execution_count": 7,
   "id": "f0941eee-26bb-4fc5-a932-8943eb35ed10",
   "metadata": {},
   "outputs": [
    {
     "name": "stdout",
     "output_type": "stream",
     "text": [
      "my error is error detected\n"
     ]
    }
   ],
   "source": [
    "lg.basicConfig(filename='exception.log',level=lg.INFO) \n",
    "\n",
    "class ErrorDetecter(Exception):\n",
    "    lg.info('we are creating a class')\n",
    "    def __init__(self,message):\n",
    "        lg.info('we are creating a method for error detecter')\n",
    "        super().__init__(message)\n",
    "        self.message=message\n",
    "        \n",
    "try :\n",
    "    lg.info(\"we are using raise keywords in try block\")\n",
    "    raise ErrorDetecter(\"error detected\")\n",
    "except ErrorDetecter as e :\n",
    "    lg.info('the error will be logged in file {e}')\n",
    "    print(f\"my error is {e}\")"
   ]
  },
  {
   "cell_type": "code",
   "execution_count": null,
   "id": "9cbad08e-5c8b-441e-8c38-a5dfb1b20f22",
   "metadata": {},
   "outputs": [],
   "source": []
  },
  {
   "cell_type": "markdown",
   "id": "c21c0dbc-df8b-48f7-967f-d5f34cd16ad4",
   "metadata": {},
   "source": [
    "### Q2. Write a python program to print Python Exception Hierarchy."
   ]
  },
  {
   "cell_type": "markdown",
   "id": "a37fd05a-52cb-4f3b-8c60-20646f688358",
   "metadata": {},
   "source": [
    "### ANS"
   ]
  },
  {
   "cell_type": "markdown",
   "id": "79dc4564-dc93-4a43-b652-865e91696ba8",
   "metadata": {},
   "source": [
    "we can take an example of program where we try to read the file but the file does't exist"
   ]
  },
  {
   "cell_type": "code",
   "execution_count": null,
   "id": "1a43d222-2ded-42a4-960c-ce052c046c79",
   "metadata": {},
   "outputs": [],
   "source": []
  },
  {
   "cell_type": "code",
   "execution_count": null,
   "id": "e6d75202-5634-4903-96a9-b8b503516c8c",
   "metadata": {},
   "outputs": [],
   "source": []
  },
  {
   "cell_type": "code",
   "execution_count": 10,
   "id": "50a1f3f3-0a7f-41c6-bd36-605d6ac73d5c",
   "metadata": {},
   "outputs": [
    {
     "name": "stdout",
     "output_type": "stream",
     "text": [
      "Caught exception: FileNotFoundError\n",
      "Exception hierarchy: (<class 'FileNotFoundError'>, <class 'OSError'>, <class 'Exception'>, <class 'BaseException'>, <class 'object'>)\n"
     ]
    }
   ],
   "source": [
    "try:\n",
    "    # Attempt to open a non-existent file\n",
    "    lg.info('trying to read the file not exisitng')\n",
    "    with open(\"non_existent_file.txt\", \"r\") as file:\n",
    "        content = file.read()\n",
    "except Exception as e:\n",
    "    lg.error(f\"my error is {e}\")\n",
    "    print(f\"Caught exception: {type(e).__name__}\")\n",
    "    print(f\"Exception hierarchy: {e.__class__.__mro__}\")\n"
   ]
  },
  {
   "cell_type": "code",
   "execution_count": null,
   "id": "6c870170-e2a8-43b5-8df2-a7ea04177b90",
   "metadata": {},
   "outputs": [],
   "source": []
  },
  {
   "cell_type": "code",
   "execution_count": null,
   "id": "bfe98f81-2094-4ff6-a191-134eaafa866b",
   "metadata": {},
   "outputs": [],
   "source": []
  },
  {
   "cell_type": "markdown",
   "id": "0eefc964-9961-4d67-9974-9cb369222436",
   "metadata": {},
   "source": [
    "### Q3. What errors are defined in the ArithmeticError class? Explain any two with an example."
   ]
  },
  {
   "cell_type": "markdown",
   "id": "ef3a32d5-122c-405a-b1a0-7375044f37fb",
   "metadata": {},
   "source": [
    "### ANS"
   ]
  },
  {
   "cell_type": "markdown",
   "id": "5fa00abf-dfbe-435d-ae85-76c9a4a6702f",
   "metadata": {},
   "source": [
    "\n",
    "The ArithmeticError class is a base class for exceptions related to arithmetic operations in Python. It serves as a superclass for a variety of arithmetic-related exceptions. Some of the exceptions that are defined within the ArithmeticError hierarchy include:"
   ]
  },
  {
   "cell_type": "code",
   "execution_count": 11,
   "id": "c7383298-4feb-4c8e-be14-6e6ac88648c3",
   "metadata": {},
   "outputs": [
    {
     "name": "stdout",
     "output_type": "stream",
     "text": [
      "Caught a ZeroDivisionError: division by zero\n"
     ]
    }
   ],
   "source": [
    "try:\n",
    "    result = 10 / 0  # Attempting to divide by zero\n",
    "except ZeroDivisionError as e:\n",
    "    print(f\"Caught a ZeroDivisionError: {e}\")\n"
   ]
  },
  {
   "cell_type": "code",
   "execution_count": 12,
   "id": "b1da9cd3-80b5-4e2a-95ba-d99610c01f01",
   "metadata": {},
   "outputs": [],
   "source": [
    "try:\n",
    "    large_number = 10 ** 1000  # Calculating an exponent that exceeds numeric limits\n",
    "except OverflowError as e:\n",
    "    print(f\"Caught an OverflowError: {e}\")\n"
   ]
  },
  {
   "cell_type": "code",
   "execution_count": null,
   "id": "65040f7e-9cba-4fc6-bcff-285e66659b65",
   "metadata": {},
   "outputs": [],
   "source": []
  },
  {
   "cell_type": "code",
   "execution_count": null,
   "id": "badf28d5-cdc5-4d42-93c2-440a41ba3d88",
   "metadata": {},
   "outputs": [],
   "source": []
  },
  {
   "cell_type": "code",
   "execution_count": null,
   "id": "3ce90a61-8827-4646-8b9b-4e777b0fd0a1",
   "metadata": {},
   "outputs": [],
   "source": []
  },
  {
   "cell_type": "markdown",
   "id": "1857ac2a-c8a2-489f-9ef1-7606301daa4f",
   "metadata": {},
   "source": [
    "#### Q4. Why LookupError class is used? Explain with an example KeyError and IndexError"
   ]
  },
  {
   "cell_type": "markdown",
   "id": "a72ba18d-e9fb-4cc6-86fc-71cfd7655f1a",
   "metadata": {},
   "source": [
    "### ANS"
   ]
  },
  {
   "cell_type": "markdown",
   "id": "f52669e2-f01d-4552-a4b9-484a33ee38d5",
   "metadata": {},
   "source": [
    "the LookupError is not the class but the base abstract class which has alot of exception classes. the very commonly used subclasses of LookupError are KeyError and IndexError"
   ]
  },
  {
   "cell_type": "markdown",
   "id": "d175124b-4719-433a-ad69-a5b6e1017037",
   "metadata": {},
   "source": [
    "let's first talk about a key error by assuming a dictionary"
   ]
  },
  {
   "cell_type": "code",
   "execution_count": 13,
   "id": "fcb19b62-92c9-4600-89cb-69512a90d3fd",
   "metadata": {},
   "outputs": [],
   "source": [
    "dict={\"key1\":23646644,\"key2\":88686886}"
   ]
  },
  {
   "cell_type": "code",
   "execution_count": 14,
   "id": "f7f45b74-a46d-49c1-bd7a-85cd09f75026",
   "metadata": {},
   "outputs": [
    {
     "ename": "KeyError",
     "evalue": "'key3'",
     "output_type": "error",
     "traceback": [
      "\u001b[0;31m---------------------------------------------------------------------------\u001b[0m",
      "\u001b[0;31mKeyError\u001b[0m                                  Traceback (most recent call last)",
      "Cell \u001b[0;32mIn[14], line 1\u001b[0m\n\u001b[0;32m----> 1\u001b[0m \u001b[38;5;28;43mdict\u001b[39;49m\u001b[43m[\u001b[49m\u001b[38;5;124;43m'\u001b[39;49m\u001b[38;5;124;43mkey3\u001b[39;49m\u001b[38;5;124;43m'\u001b[39;49m\u001b[43m]\u001b[49m\n",
      "\u001b[0;31mKeyError\u001b[0m: 'key3'"
     ]
    }
   ],
   "source": [
    "dict['key3']"
   ]
  },
  {
   "cell_type": "code",
   "execution_count": 15,
   "id": "7dfa4f6f-788b-4a2b-b976-4fe2e8e820b8",
   "metadata": {},
   "outputs": [
    {
     "name": "stdout",
     "output_type": "stream",
     "text": [
      "error caught is : 'key3'\n"
     ]
    }
   ],
   "source": [
    "try :\n",
    "    dict['key3']\n",
    "except KeyError as e :\n",
    "    lg.info(f\"error caught is : {e}\")\n",
    "    print(f\"error caught is : {e}\")"
   ]
  },
  {
   "cell_type": "markdown",
   "id": "a4b64792-f01c-4817-a5ab-5988472fa902",
   "metadata": {},
   "source": [
    "let's see IndexError with help of a list example"
   ]
  },
  {
   "cell_type": "code",
   "execution_count": 16,
   "id": "8d2275e1-051f-4e8c-9c17-400b12e7711b",
   "metadata": {},
   "outputs": [],
   "source": [
    "l=[46,'ram','siya','RAM','SIYA','Ram']"
   ]
  },
  {
   "cell_type": "code",
   "execution_count": 17,
   "id": "158e9396-cd4a-49d6-b329-9348c2d3a003",
   "metadata": {},
   "outputs": [
    {
     "ename": "IndexError",
     "evalue": "list index out of range",
     "output_type": "error",
     "traceback": [
      "\u001b[0;31m---------------------------------------------------------------------------\u001b[0m",
      "\u001b[0;31mIndexError\u001b[0m                                Traceback (most recent call last)",
      "Cell \u001b[0;32mIn[17], line 1\u001b[0m\n\u001b[0;32m----> 1\u001b[0m \u001b[43ml\u001b[49m\u001b[43m[\u001b[49m\u001b[38;5;241;43m6\u001b[39;49m\u001b[43m]\u001b[49m\n",
      "\u001b[0;31mIndexError\u001b[0m: list index out of range"
     ]
    }
   ],
   "source": [
    "l[6]"
   ]
  },
  {
   "cell_type": "code",
   "execution_count": 18,
   "id": "03f33fc1-6bbb-4db7-9069-edd05194daed",
   "metadata": {},
   "outputs": [
    {
     "name": "stdout",
     "output_type": "stream",
     "text": [
      "error caught is : list index out of range\n"
     ]
    }
   ],
   "source": [
    "try :\n",
    "    l[6]\n",
    "except IndexError as e :\n",
    "    lg.info(f\"error caught is : {e}\")\n",
    "    print(f\"error caught is : {e}\")"
   ]
  },
  {
   "cell_type": "code",
   "execution_count": null,
   "id": "f368583e-607f-46f7-ba99-3324d4be06ba",
   "metadata": {},
   "outputs": [],
   "source": []
  },
  {
   "cell_type": "code",
   "execution_count": null,
   "id": "f9af7e87-4ca7-4bac-87b8-905701637852",
   "metadata": {},
   "outputs": [],
   "source": []
  },
  {
   "cell_type": "markdown",
   "id": "3e80b66e-278e-4e63-87b9-c7e86f845c82",
   "metadata": {},
   "source": [
    "#### Q5. Explain ImportError. What is ModuleNotFoundError?"
   ]
  },
  {
   "cell_type": "markdown",
   "id": "24baad6d-03e0-4108-9f13-9360fc1f8dd2",
   "metadata": {},
   "source": [
    "### ANS"
   ]
  },
  {
   "cell_type": "markdown",
   "id": "cea7e96e-cf27-4eb2-ae8f-84525a133c21",
   "metadata": {},
   "source": [
    "Import error arises when we try to import some packages that doesn't exist in the python is ImportError.\n",
    "and ModuleNotFound error is when we are able to import some class but trying to get some method out that imported pacakage which does't exist.\n",
    "\n",
    "let's understand both with the help of example"
   ]
  },
  {
   "cell_type": "code",
   "execution_count": 21,
   "id": "6f269379-4fae-4b2b-a8a5-008a76cab390",
   "metadata": {},
   "outputs": [
    {
     "name": "stdout",
     "output_type": "stream",
     "text": [
      "error caught is : No module named 'log'\n"
     ]
    }
   ],
   "source": [
    "try :\n",
    "    import log \n",
    "except ImportError as  e :\n",
    "    print(f\"error caught is : {e}\")"
   ]
  },
  {
   "cell_type": "code",
   "execution_count": 25,
   "id": "fd408eab-de09-46ef-8c1d-ab7a787f40ab",
   "metadata": {},
   "outputs": [
    {
     "name": "stdout",
     "output_type": "stream",
     "text": [
      "error caugh is : No module named 'Love'\n"
     ]
    }
   ],
   "source": [
    "try :\n",
    "    import Love \n",
    "except ModuleNotFoundError as e :\n",
    "    lg.info(f\"error caugh is : {e}\")\n",
    "    print(f\"error caugh is : {e}\")"
   ]
  },
  {
   "cell_type": "code",
   "execution_count": null,
   "id": "67a725c9-7042-4c7b-9aeb-a8f150200aab",
   "metadata": {},
   "outputs": [],
   "source": []
  },
  {
   "cell_type": "code",
   "execution_count": null,
   "id": "e9a3fa2b-2c9c-4a3d-9e77-a9bdaf4e708c",
   "metadata": {},
   "outputs": [],
   "source": []
  },
  {
   "cell_type": "markdown",
   "id": "6aa24b2f-ba54-414a-896d-c2c2c4a7df76",
   "metadata": {},
   "source": [
    "#### Q6. List down some best practices for exception handling in python. "
   ]
  },
  {
   "cell_type": "markdown",
   "id": "ebabde43-8b30-4cc7-bba0-4eeb77eea4a1",
   "metadata": {},
   "source": [
    "### ANS\n",
    "\n",
    "there are sevral example but let's understand best "
   ]
  },
  {
   "cell_type": "code",
   "execution_count": 26,
   "id": "d6e73135-62a3-4280-a317-ddb561413fd9",
   "metadata": {},
   "outputs": [
    {
     "name": "stdout",
     "output_type": "stream",
     "text": [
      "division by zero\n"
     ]
    }
   ],
   "source": [
    "try :\n",
    "    10/0\n",
    "except ZeroDivisionError as e :\n",
    "    print(e)"
   ]
  },
  {
   "cell_type": "code",
   "execution_count": 28,
   "id": "24d02659-7126-4a5e-9d66-1625503fa9e6",
   "metadata": {},
   "outputs": [
    {
     "name": "stdout",
     "output_type": "stream",
     "text": [
      "error caugh is : unsupported operand type(s) for +: 'int' and 'str'\n"
     ]
    }
   ],
   "source": [
    "try :\n",
    "    a=5+'ram'\n",
    "except TypeError as e :\n",
    "    lg.info(f\"error caugh is : {e}\")\n",
    "    print(f\"error caugh is : {e}\")"
   ]
  },
  {
   "cell_type": "code",
   "execution_count": null,
   "id": "f2f36c17-c9b2-4ba1-9313-bd65bf9a9868",
   "metadata": {},
   "outputs": [],
   "source": []
  }
 ],
 "metadata": {
  "kernelspec": {
   "display_name": "Python 3 (ipykernel)",
   "language": "python",
   "name": "python3"
  },
  "language_info": {
   "codemirror_mode": {
    "name": "ipython",
    "version": 3
   },
   "file_extension": ".py",
   "mimetype": "text/x-python",
   "name": "python",
   "nbconvert_exporter": "python",
   "pygments_lexer": "ipython3",
   "version": "3.10.8"
  }
 },
 "nbformat": 4,
 "nbformat_minor": 5
}
